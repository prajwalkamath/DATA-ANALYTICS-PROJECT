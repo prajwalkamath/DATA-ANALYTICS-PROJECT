{
 "cells": [
  {
   "cell_type": "markdown",
   "id": "812d96a2",
   "metadata": {},
   "source": [
    "#  <center><font color='blue'>HOUSE PRICE PREDICTION </font></center>"
   ]
  },
  {
   "cell_type": "markdown",
   "id": "0ae29c97",
   "metadata": {},
   "source": [
    "## 1)Data Preprocessing and EDA"
   ]
  },
  {
   "cell_type": "code",
   "execution_count": 1,
   "id": "e0f6ced5",
   "metadata": {},
   "outputs": [],
   "source": [
    "import pandas as pd\n",
    "import numpy as np\n",
    "import matplotlib.pyplot as plt\n",
    "import re\n",
    "import pandas as pd\n",
    "import numpy as np\n",
    "import matplotlib.pyplot as plt\n",
    "import re\n",
    "import math\n",
    "import seaborn as sns\n",
    "from sklearn.preprocessing import StandardScaler\n",
    "from sklearn.model_selection import train_test_split,GridSearchCV\n",
    "from sklearn.ensemble import RandomForestRegressor\n",
    "from sklearn.metrics import classification_report, confusion_matrix  \n",
    "from sklearn.tree import DecisionTreeRegressor\n",
    "from sklearn.svm import SVR \n",
    "#INSTALL XG BOOST FIRST\n",
    "from sklearn.neural_network import MLPRegressor\n",
    "from sklearn.linear_model import LinearRegression\n",
    "import xgboost as xg\n",
    "from sklearn.ensemble import AdaBoostRegressor\n",
    "from sklearn.model_selection import GridSearchCV\n",
    "from sklearn.neighbors import KNeighborsRegressor\n",
    "from sklearn.metrics import mean_absolute_percentage_error,mean_squared_error"
   ]
  },
  {
   "cell_type": "code",
   "execution_count": 109,
   "id": "cd09c390",
   "metadata": {},
   "outputs": [],
   "source": [
    "df=pd.read_csv(\"Bengaluru_House_Data.csv\")"
   ]
  },
  {
   "cell_type": "code",
   "execution_count": 110,
   "id": "398b53a7",
   "metadata": {},
   "outputs": [
    {
     "data": {
      "text/plain": [
       "area_type        object\n",
       "availability     object\n",
       "location         object\n",
       "size             object\n",
       "society          object\n",
       "total_sqft       object\n",
       "bath            float64\n",
       "balcony         float64\n",
       "price           float64\n",
       "dtype: object"
      ]
     },
     "execution_count": 110,
     "metadata": {},
     "output_type": "execute_result"
    }
   ],
   "source": [
    "# Checking the data type\n",
    "df.dtypes"
   ]
  },
  {
   "cell_type": "code",
   "execution_count": 111,
   "id": "66b33b27",
   "metadata": {},
   "outputs": [
    {
     "data": {
      "text/plain": [
       "(13320, 9)"
      ]
     },
     "execution_count": 111,
     "metadata": {},
     "output_type": "execute_result"
    }
   ],
   "source": [
    "#Size of the dataset\n",
    "df.shape"
   ]
  },
  {
   "cell_type": "markdown",
   "id": "66767035",
   "metadata": {},
   "source": [
    "##### <font color='green'>We Observe that there are 13320 rows and 9 columns in our Dataset </color>"
   ]
  },
  {
   "cell_type": "code",
   "execution_count": 112,
   "id": "f6e38d38",
   "metadata": {},
   "outputs": [
    {
     "data": {
      "text/plain": [
       "Index(['area_type', 'availability', 'location', 'size', 'society',\n",
       "       'total_sqft', 'bath', 'balcony', 'price'],\n",
       "      dtype='object')"
      ]
     },
     "execution_count": 112,
     "metadata": {},
     "output_type": "execute_result"
    }
   ],
   "source": [
    "#List of Columns\n",
    "df.columns"
   ]
  },
  {
   "cell_type": "code",
   "execution_count": 113,
   "id": "acafca56",
   "metadata": {},
   "outputs": [
    {
     "data": {
      "text/plain": [
       "area_type          0\n",
       "availability       0\n",
       "location           1\n",
       "size              16\n",
       "society         5502\n",
       "total_sqft         0\n",
       "bath              73\n",
       "balcony          609\n",
       "price              0\n",
       "dtype: int64"
      ]
     },
     "execution_count": 113,
     "metadata": {},
     "output_type": "execute_result"
    }
   ],
   "source": [
    "#Checking for Null Values\n",
    "df.isnull().sum()"
   ]
  },
  {
   "cell_type": "code",
   "execution_count": 114,
   "id": "d9fa95a1",
   "metadata": {},
   "outputs": [],
   "source": [
    "#We Obverse that Society Column has many missing values and it will not produce meaningful insight so we decided to drop the Column\n",
    "df=df.drop(['society'],axis=1)"
   ]
  },
  {
   "cell_type": "markdown",
   "id": "d098af38",
   "metadata": {},
   "source": [
    "#### <font color='purple'>We Observe that Size Column has BHK,Bedroom and RK(Room Kitchen).So we are converting Bedroom to BHK</color>"
   ]
  },
  {
   "cell_type": "code",
   "execution_count": 115,
   "id": "7e4349bd",
   "metadata": {},
   "outputs": [],
   "source": [
    "df['size'].replace({'1 Bedroom':'1 BHK','2 Bedroom':'2 BHK','3 Bedroom':'3 BHK','4 Bedroom':'4 BHK','5 Bedroom':'5 BHK','6 Bedroom':'6 BHK','7 Bedroom':'7 BHK','8 Bedroom':'8 BHK','9 Bedroom':'9 BHK','10 Bedroom':'10 BHK','11 Bedroom':'11 BHK','12 Bedroom':'12 BHK','18 Bedroom':'18 BHK','43 Bedroom':'43 BHK'},inplace=True)"
   ]
  },
  {
   "cell_type": "code",
   "execution_count": 116,
   "id": "86b5fb01",
   "metadata": {},
   "outputs": [],
   "source": [
    "#We also observe that Size Column has missing values which we cannot infer accurately by any means.So we decide to drop such Rows \n",
    "df = df[df['size'].notna()]"
   ]
  },
  {
   "cell_type": "markdown",
   "id": "1c2066dc",
   "metadata": {},
   "source": [
    "#### <font color='purple'>We Fill in the missing values of Bath Column with Mean of the column</color>"
   ]
  },
  {
   "cell_type": "code",
   "execution_count": 117,
   "id": "696977da",
   "metadata": {},
   "outputs": [],
   "source": [
    "df['bath'].fillna(df.groupby('size')['bath'].transform('mean'),inplace=True) "
   ]
  },
  {
   "cell_type": "markdown",
   "id": "d00d8634",
   "metadata": {},
   "source": [
    "#### <font color='purple'>We Fill in the missing values of Balcony Column with Mean of the column</color>"
   ]
  },
  {
   "cell_type": "code",
   "execution_count": 118,
   "id": "1c8e9f65",
   "metadata": {},
   "outputs": [],
   "source": [
    "df['balcony'].fillna(df.groupby('size')['balcony'].transform('mean'),inplace=True) "
   ]
  },
  {
   "cell_type": "markdown",
   "id": "dabba903",
   "metadata": {},
   "source": [
    "#### <font color='purple'>Note:We have removed around 3 records Manually which would require complex regex Code if done through coding</color>"
   ]
  },
  {
   "cell_type": "markdown",
   "id": "5aa648d7",
   "metadata": {},
   "source": [
    "#### <font color='purple'>While imputing the NAN values with mean,the values inserted are fractional,So we are converting it back to Decimal values</color>"
   ]
  },
  {
   "cell_type": "code",
   "execution_count": 119,
   "id": "ea48dcac",
   "metadata": {},
   "outputs": [],
   "source": [
    "for i, row in df.iterrows():\n",
    "    df.loc[i,'bath']=math.ceil(df.loc[i,'bath'])\n",
    "    df.loc[i,'balcony']=math.ceil(df.loc[i,'balcony'])\n",
    "df.to_csv('modified_house.csv')"
   ]
  },
  {
   "cell_type": "markdown",
   "id": "e372ac09",
   "metadata": {},
   "source": [
    "#### <font color='purple'>Note:We have committed our changes to a new csv file and converted around 10 rows in total_sqft column which were in different units and coding them would be inefficient</color>"
   ]
  },
  {
   "cell_type": "markdown",
   "id": "15888e86",
   "metadata": {},
   "source": [
    "#### <font color='purple'>Checking a new Column 'Hall Present' to differntiate between BHK AND RK</color>"
   ]
  },
  {
   "cell_type": "code",
   "execution_count": 131,
   "id": "9c062051",
   "metadata": {},
   "outputs": [],
   "source": [
    "df=pd.read_csv(\"modified_house.csv\")\n",
    "bool_hall=[]\n",
    "for i in df['size']:\n",
    "    if 'H' in i:\n",
    "        bool_hall.append(1)\n",
    "    else:\n",
    "        bool_hall.append(0)\n",
    "df['hall_present']=pd.Series(bool_hall)"
   ]
  },
  {
   "cell_type": "markdown",
   "id": "467de42d",
   "metadata": {},
   "source": [
    "#### <font color='purple'>Removing BHK and RK from Size Column as we have already accounted for the Hall</color>"
   ]
  },
  {
   "cell_type": "code",
   "execution_count": 132,
   "id": "0a5dcc59",
   "metadata": {},
   "outputs": [],
   "source": [
    "for index in range(df.shape[0]):\n",
    "    if 'H' in df.loc[index,'size']:\n",
    "        df.loc[index,'size']=df.loc[index,'size'].replace(' BHK','')\n",
    "    else:\n",
    "        df.loc[index,'size']=df.loc[index,'size'].replace(' RK','')"
   ]
  },
  {
   "cell_type": "markdown",
   "id": "8ed0d8f1",
   "metadata": {},
   "source": [
    "#### <font color='purple'>Checking For Irregularities in the Data</color>"
   ]
  },
  {
   "cell_type": "code",
   "execution_count": 3,
   "id": "98e5bd94",
   "metadata": {},
   "outputs": [
    {
     "data": {
      "text/plain": [
       "(12961, 9)"
      ]
     },
     "execution_count": 3,
     "metadata": {},
     "output_type": "execute_result"
    }
   ],
   "source": [
    "#Size of a BHK should be greater than 200\n",
    "filt=df['total_sqft']/df['size']>=200\n",
    "df=df[filt]\n",
    "df.shape"
   ]
  },
  {
   "cell_type": "code",
   "execution_count": 4,
   "id": "ce2aa67e",
   "metadata": {},
   "outputs": [
    {
     "data": {
      "text/plain": [
       "(12797, 9)"
      ]
     },
     "execution_count": 4,
     "metadata": {},
     "output_type": "execute_result"
    }
   ],
   "source": [
    "#No of bathrooms should not be one greater than one more than number of bedrooms \n",
    "filt=df['bath']<=df['size']+1\n",
    "df=df[filt]\n",
    "df.shape"
   ]
  },
  {
   "cell_type": "code",
   "execution_count": 5,
   "id": "19c5156d",
   "metadata": {},
   "outputs": [
    {
     "data": {
      "text/plain": [
       "(12433, 9)"
      ]
     },
     "execution_count": 5,
     "metadata": {},
     "output_type": "execute_result"
    }
   ],
   "source": [
    "#Number of Balcony's should be not more than number of bedrooms\n",
    "filt=df['balcony']<=df['size']\n",
    "df=df[filt]\n",
    "df.shape"
   ]
  },
  {
   "cell_type": "markdown",
   "id": "7279b148",
   "metadata": {},
   "source": [
    "#### <font color='purple'>Performing One Hot Encoding for Locations</color>"
   ]
  },
  {
   "cell_type": "code",
   "execution_count": 6,
   "id": "ce57cb5f",
   "metadata": {},
   "outputs": [],
   "source": [
    "dummies = pd.get_dummies(df.location)\n",
    "df=pd.concat([df,dummies],axis='columns')"
   ]
  },
  {
   "cell_type": "code",
   "execution_count": 7,
   "id": "37e2efd2",
   "metadata": {},
   "outputs": [
    {
     "data": {
      "text/html": [
       "<div>\n",
       "<style scoped>\n",
       "    .dataframe tbody tr th:only-of-type {\n",
       "        vertical-align: middle;\n",
       "    }\n",
       "\n",
       "    .dataframe tbody tr th {\n",
       "        vertical-align: top;\n",
       "    }\n",
       "\n",
       "    .dataframe thead th {\n",
       "        text-align: right;\n",
       "    }\n",
       "</style>\n",
       "<table border=\"1\" class=\"dataframe\">\n",
       "  <thead>\n",
       "    <tr style=\"text-align: right;\">\n",
       "      <th></th>\n",
       "      <th>area_type</th>\n",
       "      <th>availability</th>\n",
       "      <th>location</th>\n",
       "      <th>size</th>\n",
       "      <th>hall_present</th>\n",
       "      <th>bath</th>\n",
       "      <th>balcony</th>\n",
       "      <th>total_sqft</th>\n",
       "      <th>price</th>\n",
       "      <th>Anekal</th>\n",
       "      <th>...</th>\n",
       "      <th>ravindra nagar, T.dasarahalli peenya</th>\n",
       "      <th>rr nagar</th>\n",
       "      <th>sankeswari</th>\n",
       "      <th>sapthagiri Layout</th>\n",
       "      <th>sarjapura main road</th>\n",
       "      <th>singapura paradise</th>\n",
       "      <th>t.c palya</th>\n",
       "      <th>tc.palya</th>\n",
       "      <th>white field,kadugodi</th>\n",
       "      <th>whitefiled</th>\n",
       "    </tr>\n",
       "  </thead>\n",
       "  <tbody>\n",
       "    <tr>\n",
       "      <th>0</th>\n",
       "      <td>Super built-up  Area</td>\n",
       "      <td>19-Dec</td>\n",
       "      <td>Electronic City Phase II</td>\n",
       "      <td>2</td>\n",
       "      <td>1</td>\n",
       "      <td>2</td>\n",
       "      <td>1</td>\n",
       "      <td>1056.0</td>\n",
       "      <td>39.07</td>\n",
       "      <td>0</td>\n",
       "      <td>...</td>\n",
       "      <td>0</td>\n",
       "      <td>0</td>\n",
       "      <td>0</td>\n",
       "      <td>0</td>\n",
       "      <td>0</td>\n",
       "      <td>0</td>\n",
       "      <td>0</td>\n",
       "      <td>0</td>\n",
       "      <td>0</td>\n",
       "      <td>0</td>\n",
       "    </tr>\n",
       "    <tr>\n",
       "      <th>1</th>\n",
       "      <td>Plot  Area</td>\n",
       "      <td>Ready To Move</td>\n",
       "      <td>Chikka Tirupathi</td>\n",
       "      <td>4</td>\n",
       "      <td>1</td>\n",
       "      <td>5</td>\n",
       "      <td>3</td>\n",
       "      <td>2600.0</td>\n",
       "      <td>120.00</td>\n",
       "      <td>0</td>\n",
       "      <td>...</td>\n",
       "      <td>0</td>\n",
       "      <td>0</td>\n",
       "      <td>0</td>\n",
       "      <td>0</td>\n",
       "      <td>0</td>\n",
       "      <td>0</td>\n",
       "      <td>0</td>\n",
       "      <td>0</td>\n",
       "      <td>0</td>\n",
       "      <td>0</td>\n",
       "    </tr>\n",
       "    <tr>\n",
       "      <th>2</th>\n",
       "      <td>Built-up  Area</td>\n",
       "      <td>Ready To Move</td>\n",
       "      <td>Uttarahalli</td>\n",
       "      <td>3</td>\n",
       "      <td>1</td>\n",
       "      <td>2</td>\n",
       "      <td>3</td>\n",
       "      <td>1440.0</td>\n",
       "      <td>62.00</td>\n",
       "      <td>0</td>\n",
       "      <td>...</td>\n",
       "      <td>0</td>\n",
       "      <td>0</td>\n",
       "      <td>0</td>\n",
       "      <td>0</td>\n",
       "      <td>0</td>\n",
       "      <td>0</td>\n",
       "      <td>0</td>\n",
       "      <td>0</td>\n",
       "      <td>0</td>\n",
       "      <td>0</td>\n",
       "    </tr>\n",
       "    <tr>\n",
       "      <th>3</th>\n",
       "      <td>Super built-up  Area</td>\n",
       "      <td>Ready To Move</td>\n",
       "      <td>Lingadheeranahalli</td>\n",
       "      <td>3</td>\n",
       "      <td>1</td>\n",
       "      <td>3</td>\n",
       "      <td>1</td>\n",
       "      <td>1521.0</td>\n",
       "      <td>95.00</td>\n",
       "      <td>0</td>\n",
       "      <td>...</td>\n",
       "      <td>0</td>\n",
       "      <td>0</td>\n",
       "      <td>0</td>\n",
       "      <td>0</td>\n",
       "      <td>0</td>\n",
       "      <td>0</td>\n",
       "      <td>0</td>\n",
       "      <td>0</td>\n",
       "      <td>0</td>\n",
       "      <td>0</td>\n",
       "    </tr>\n",
       "    <tr>\n",
       "      <th>4</th>\n",
       "      <td>Super built-up  Area</td>\n",
       "      <td>Ready To Move</td>\n",
       "      <td>Kothanur</td>\n",
       "      <td>2</td>\n",
       "      <td>1</td>\n",
       "      <td>2</td>\n",
       "      <td>1</td>\n",
       "      <td>1200.0</td>\n",
       "      <td>51.00</td>\n",
       "      <td>0</td>\n",
       "      <td>...</td>\n",
       "      <td>0</td>\n",
       "      <td>0</td>\n",
       "      <td>0</td>\n",
       "      <td>0</td>\n",
       "      <td>0</td>\n",
       "      <td>0</td>\n",
       "      <td>0</td>\n",
       "      <td>0</td>\n",
       "      <td>0</td>\n",
       "      <td>0</td>\n",
       "    </tr>\n",
       "    <tr>\n",
       "      <th>...</th>\n",
       "      <td>...</td>\n",
       "      <td>...</td>\n",
       "      <td>...</td>\n",
       "      <td>...</td>\n",
       "      <td>...</td>\n",
       "      <td>...</td>\n",
       "      <td>...</td>\n",
       "      <td>...</td>\n",
       "      <td>...</td>\n",
       "      <td>...</td>\n",
       "      <td>...</td>\n",
       "      <td>...</td>\n",
       "      <td>...</td>\n",
       "      <td>...</td>\n",
       "      <td>...</td>\n",
       "      <td>...</td>\n",
       "      <td>...</td>\n",
       "      <td>...</td>\n",
       "      <td>...</td>\n",
       "      <td>...</td>\n",
       "      <td>...</td>\n",
       "    </tr>\n",
       "    <tr>\n",
       "      <th>13298</th>\n",
       "      <td>Built-up  Area</td>\n",
       "      <td>Ready To Move</td>\n",
       "      <td>Whitefield</td>\n",
       "      <td>5</td>\n",
       "      <td>1</td>\n",
       "      <td>4</td>\n",
       "      <td>0</td>\n",
       "      <td>3453.0</td>\n",
       "      <td>231.00</td>\n",
       "      <td>0</td>\n",
       "      <td>...</td>\n",
       "      <td>0</td>\n",
       "      <td>0</td>\n",
       "      <td>0</td>\n",
       "      <td>0</td>\n",
       "      <td>0</td>\n",
       "      <td>0</td>\n",
       "      <td>0</td>\n",
       "      <td>0</td>\n",
       "      <td>0</td>\n",
       "      <td>0</td>\n",
       "    </tr>\n",
       "    <tr>\n",
       "      <th>13299</th>\n",
       "      <td>Super built-up  Area</td>\n",
       "      <td>Ready To Move</td>\n",
       "      <td>Richards Town</td>\n",
       "      <td>4</td>\n",
       "      <td>1</td>\n",
       "      <td>5</td>\n",
       "      <td>2</td>\n",
       "      <td>3600.0</td>\n",
       "      <td>400.00</td>\n",
       "      <td>0</td>\n",
       "      <td>...</td>\n",
       "      <td>0</td>\n",
       "      <td>0</td>\n",
       "      <td>0</td>\n",
       "      <td>0</td>\n",
       "      <td>0</td>\n",
       "      <td>0</td>\n",
       "      <td>0</td>\n",
       "      <td>0</td>\n",
       "      <td>0</td>\n",
       "      <td>0</td>\n",
       "    </tr>\n",
       "    <tr>\n",
       "      <th>13300</th>\n",
       "      <td>Built-up  Area</td>\n",
       "      <td>Ready To Move</td>\n",
       "      <td>Raja Rajeshwari Nagar</td>\n",
       "      <td>2</td>\n",
       "      <td>1</td>\n",
       "      <td>2</td>\n",
       "      <td>1</td>\n",
       "      <td>1141.0</td>\n",
       "      <td>60.00</td>\n",
       "      <td>0</td>\n",
       "      <td>...</td>\n",
       "      <td>0</td>\n",
       "      <td>0</td>\n",
       "      <td>0</td>\n",
       "      <td>0</td>\n",
       "      <td>0</td>\n",
       "      <td>0</td>\n",
       "      <td>0</td>\n",
       "      <td>0</td>\n",
       "      <td>0</td>\n",
       "      <td>0</td>\n",
       "    </tr>\n",
       "    <tr>\n",
       "      <th>13301</th>\n",
       "      <td>Super built-up  Area</td>\n",
       "      <td>18-Jun</td>\n",
       "      <td>Padmanabhanagar</td>\n",
       "      <td>4</td>\n",
       "      <td>1</td>\n",
       "      <td>4</td>\n",
       "      <td>1</td>\n",
       "      <td>4689.0</td>\n",
       "      <td>488.00</td>\n",
       "      <td>0</td>\n",
       "      <td>...</td>\n",
       "      <td>0</td>\n",
       "      <td>0</td>\n",
       "      <td>0</td>\n",
       "      <td>0</td>\n",
       "      <td>0</td>\n",
       "      <td>0</td>\n",
       "      <td>0</td>\n",
       "      <td>0</td>\n",
       "      <td>0</td>\n",
       "      <td>0</td>\n",
       "    </tr>\n",
       "    <tr>\n",
       "      <th>13302</th>\n",
       "      <td>Super built-up  Area</td>\n",
       "      <td>Ready To Move</td>\n",
       "      <td>Doddathoguru</td>\n",
       "      <td>1</td>\n",
       "      <td>1</td>\n",
       "      <td>1</td>\n",
       "      <td>1</td>\n",
       "      <td>550.0</td>\n",
       "      <td>17.00</td>\n",
       "      <td>0</td>\n",
       "      <td>...</td>\n",
       "      <td>0</td>\n",
       "      <td>0</td>\n",
       "      <td>0</td>\n",
       "      <td>0</td>\n",
       "      <td>0</td>\n",
       "      <td>0</td>\n",
       "      <td>0</td>\n",
       "      <td>0</td>\n",
       "      <td>0</td>\n",
       "      <td>0</td>\n",
       "    </tr>\n",
       "  </tbody>\n",
       "</table>\n",
       "<p>12433 rows × 1248 columns</p>\n",
       "</div>"
      ],
      "text/plain": [
       "                  area_type   availability                  location  size  \\\n",
       "0      Super built-up  Area         19-Dec  Electronic City Phase II     2   \n",
       "1                Plot  Area  Ready To Move          Chikka Tirupathi     4   \n",
       "2            Built-up  Area  Ready To Move               Uttarahalli     3   \n",
       "3      Super built-up  Area  Ready To Move        Lingadheeranahalli     3   \n",
       "4      Super built-up  Area  Ready To Move                  Kothanur     2   \n",
       "...                     ...            ...                       ...   ...   \n",
       "13298        Built-up  Area  Ready To Move                Whitefield     5   \n",
       "13299  Super built-up  Area  Ready To Move             Richards Town     4   \n",
       "13300        Built-up  Area  Ready To Move     Raja Rajeshwari Nagar     2   \n",
       "13301  Super built-up  Area         18-Jun           Padmanabhanagar     4   \n",
       "13302  Super built-up  Area  Ready To Move              Doddathoguru     1   \n",
       "\n",
       "       hall_present  bath  balcony  total_sqft   price   Anekal  ...  \\\n",
       "0                 1     2        1      1056.0   39.07        0  ...   \n",
       "1                 1     5        3      2600.0  120.00        0  ...   \n",
       "2                 1     2        3      1440.0   62.00        0  ...   \n",
       "3                 1     3        1      1521.0   95.00        0  ...   \n",
       "4                 1     2        1      1200.0   51.00        0  ...   \n",
       "...             ...   ...      ...         ...     ...      ...  ...   \n",
       "13298             1     4        0      3453.0  231.00        0  ...   \n",
       "13299             1     5        2      3600.0  400.00        0  ...   \n",
       "13300             1     2        1      1141.0   60.00        0  ...   \n",
       "13301             1     4        1      4689.0  488.00        0  ...   \n",
       "13302             1     1        1       550.0   17.00        0  ...   \n",
       "\n",
       "       ravindra nagar, T.dasarahalli peenya  rr nagar  sankeswari  \\\n",
       "0                                         0         0           0   \n",
       "1                                         0         0           0   \n",
       "2                                         0         0           0   \n",
       "3                                         0         0           0   \n",
       "4                                         0         0           0   \n",
       "...                                     ...       ...         ...   \n",
       "13298                                     0         0           0   \n",
       "13299                                     0         0           0   \n",
       "13300                                     0         0           0   \n",
       "13301                                     0         0           0   \n",
       "13302                                     0         0           0   \n",
       "\n",
       "       sapthagiri Layout  sarjapura main road  singapura paradise  t.c palya  \\\n",
       "0                      0                    0                   0          0   \n",
       "1                      0                    0                   0          0   \n",
       "2                      0                    0                   0          0   \n",
       "3                      0                    0                   0          0   \n",
       "4                      0                    0                   0          0   \n",
       "...                  ...                  ...                 ...        ...   \n",
       "13298                  0                    0                   0          0   \n",
       "13299                  0                    0                   0          0   \n",
       "13300                  0                    0                   0          0   \n",
       "13301                  0                    0                   0          0   \n",
       "13302                  0                    0                   0          0   \n",
       "\n",
       "       tc.palya  white field,kadugodi  whitefiled  \n",
       "0             0                     0           0  \n",
       "1             0                     0           0  \n",
       "2             0                     0           0  \n",
       "3             0                     0           0  \n",
       "4             0                     0           0  \n",
       "...         ...                   ...         ...  \n",
       "13298         0                     0           0  \n",
       "13299         0                     0           0  \n",
       "13300         0                     0           0  \n",
       "13301         0                     0           0  \n",
       "13302         0                     0           0  \n",
       "\n",
       "[12433 rows x 1248 columns]"
      ]
     },
     "execution_count": 7,
     "metadata": {},
     "output_type": "execute_result"
    }
   ],
   "source": [
    "df"
   ]
  },
  {
   "cell_type": "markdown",
   "id": "eebc1f86",
   "metadata": {},
   "source": [
    "##### <font color='green'>We observe that after preprocessing,the number of rows have been reduced to 12433 and the number of Columns have been increased to 1248 due to One Hot Encoding</color>"
   ]
  },
  {
   "cell_type": "markdown",
   "id": "654d478e",
   "metadata": {},
   "source": [
    "#### <font color='purple'>We observe from the below Scatter plot between Size and Price there exists no Correlation between them and Linear Models cannot be used to predict the prices</color>"
   ]
  },
  {
   "cell_type": "code",
   "execution_count": 8,
   "id": "d881ab19",
   "metadata": {},
   "outputs": [
    {
     "data": {
      "text/plain": [
       "<AxesSubplot:xlabel='size', ylabel='price'>"
      ]
     },
     "execution_count": 8,
     "metadata": {},
     "output_type": "execute_result"
    },
    {
     "data": {
      "image/png": "[encoded data removed]",
      "text/plain": [
       "<Figure size 432x288 with 1 Axes>"
      ]
     },
     "metadata": {
      "needs_background": "light"
     },
     "output_type": "display_data"
    }
   ],
   "source": [
    "sns.scatterplot(x=df['size'],y=df['price'])"
   ]
  },
  {
   "cell_type": "markdown",
   "id": "bcdb4ad2",
   "metadata": {},
   "source": [
    "#### <font color='purple'>We observe from the below Scatter plot between balcony and Price there exists no Correlation between them and Linear Models cannot be used to predict the prices</color>"
   ]
  },
  {
   "cell_type": "code",
   "execution_count": 9,
   "id": "42f07a67",
   "metadata": {},
   "outputs": [
    {
     "data": {
      "text/plain": [
       "<AxesSubplot:xlabel='balcony', ylabel='price'>"
      ]
     },
     "execution_count": 9,
     "metadata": {},
     "output_type": "execute_result"
    },
    {
     "data": {
      "image/png": "[encoded data removed]",
      "text/plain": [
       "<Figure size 432x288 with 1 Axes>"
      ]
     },
     "metadata": {
      "needs_background": "light"
     },
     "output_type": "display_data"
    }
   ],
   "source": [
    "sns.scatterplot(x=df['balcony'],y=df['price'])"
   ]
  },
  {
   "cell_type": "code",
   "execution_count": 10,
   "id": "d16c4eba",
   "metadata": {},
   "outputs": [],
   "source": [
    "#Placing the price column at the end\n",
    "prices=df['price']\n",
    "del df['price']\n",
    "df['price']=prices"
   ]
  },
  {
   "cell_type": "markdown",
   "id": "26643400",
   "metadata": {},
   "source": [
    "## 2)Model Building"
   ]
  },
  {
   "cell_type": "code",
   "execution_count": 11,
   "id": "afc30269",
   "metadata": {},
   "outputs": [],
   "source": [
    "#Test Train Split\n",
    "x=df.iloc[:,3:-1]\n",
    "y=df['price']\n",
    "x_train, x_test, y_train, y_test = train_test_split(x, y, test_size=0.33)"
   ]
  },
  {
   "cell_type": "markdown",
   "id": "b5197e31",
   "metadata": {},
   "source": [
    "### <font color='purple'>Multiple Linear Regression Model(To Show that MLR doesn't work well in our case)</font>"
   ]
  },
  {
   "cell_type": "code",
   "execution_count": 16,
   "id": "e6fcc1aa",
   "metadata": {},
   "outputs": [
    {
     "data": {
      "text/plain": [
       "LinearRegression()"
      ]
     },
     "execution_count": 16,
     "metadata": {},
     "output_type": "execute_result"
    }
   ],
   "source": [
    "model=LinearRegression()\n",
    "model.fit(x_train,y_train)"
   ]
  },
  {
   "cell_type": "code",
   "execution_count": 17,
   "id": "91adf463",
   "metadata": {},
   "outputs": [
    {
     "data": {
      "text/plain": [
       "0.4906071430244997"
      ]
     },
     "execution_count": 17,
     "metadata": {},
     "output_type": "execute_result"
    }
   ],
   "source": [
    "prediction = model.predict(x_test)\n",
    "mean_absolute_percentage_error(y_test,prediction)"
   ]
  },
  {
   "cell_type": "markdown",
   "id": "e3f42147",
   "metadata": {},
   "source": [
    "### <font color='purple'>We Observe that Multiple Linear Regression Model doesn't work well </font>"
   ]
  },
  {
   "cell_type": "markdown",
   "id": "e8fa40a4",
   "metadata": {},
   "source": [
    "### <font color='green'>Thus we plan to implement other models which help us in predicting the results better </font>"
   ]
  },
  {
   "cell_type": "markdown",
   "id": "5f2d29d2",
   "metadata": {},
   "source": [
    "### <font color='purple'>1)Random Forest Regressor</font>"
   ]
  },
  {
   "cell_type": "code",
   "execution_count": 18,
   "id": "ffbe58a8",
   "metadata": {},
   "outputs": [
    {
     "data": {
      "text/plain": [
       "0.23546042389205463"
      ]
     },
     "execution_count": 18,
     "metadata": {},
     "output_type": "execute_result"
    }
   ],
   "source": [
    "regressor = RandomForestRegressor()\n",
    "regressor.fit(x_train, y_train)\n",
    "prediction = regressor.predict(x_test)\n",
    "mean_absolute_percentage_error(y_test,prediction)"
   ]
  },
  {
   "cell_type": "markdown",
   "id": "d9c8e492",
   "metadata": {},
   "source": [
    "### <font color='green'>We Observe that RandomForestRegressor works pretty well and the MAPE is also reduced </font>"
   ]
  },
  {
   "cell_type": "markdown",
   "id": "e09d49e4",
   "metadata": {},
   "source": [
    "### <font color='purple'>2)Decision Tree Regressor</font>"
   ]
  },
  {
   "cell_type": "code",
   "execution_count": 19,
   "id": "cada4761",
   "metadata": {},
   "outputs": [
    {
     "data": {
      "text/plain": [
       "0.26345238890124395"
      ]
     },
     "execution_count": 19,
     "metadata": {},
     "output_type": "execute_result"
    }
   ],
   "source": [
    "regressor = DecisionTreeRegressor(random_state=0)\n",
    "regressor.fit(x_train,y_train)\n",
    "predicted=regressor.predict(x_test)\n",
    "mean_absolute_percentage_error(y_test,predicted)"
   ]
  },
  {
   "cell_type": "markdown",
   "id": "fa8f86fc",
   "metadata": {},
   "source": [
    "### <font color='green'>We Observe that DecisionTreeRegressor works better than MLR but not as good as RandomForestRegressor </font>"
   ]
  },
  {
   "cell_type": "markdown",
   "id": "392f4988",
   "metadata": {},
   "source": [
    "### <font color='purple'>3)Adaboost with Decision Tree Regressor</font>"
   ]
  },
  {
   "cell_type": "code",
   "execution_count": 24,
   "id": "7b11feb0",
   "metadata": {},
   "outputs": [
    {
     "data": {
      "text/plain": [
       "0.25422834782679304"
      ]
     },
     "execution_count": 24,
     "metadata": {},
     "output_type": "execute_result"
    }
   ],
   "source": [
    "regr2 = AdaBoostRegressor(DecisionTreeRegressor())\n",
    "regr2.fit(x_train,y_train)\n",
    "predict=regr2.predict(x_test)\n",
    "mean_absolute_percentage_error(y_test,predict)"
   ]
  },
  {
   "cell_type": "markdown",
   "id": "92da762b",
   "metadata": {},
   "source": [
    "### <font color='green'>We Observe that Adaboost with Decision Tree Regressor works better than MLR and Decision Tree Regressor but not as good as RandomForestRegressor </font>"
   ]
  },
  {
   "cell_type": "markdown",
   "id": "2f506de4",
   "metadata": {},
   "source": [
    "### <font color='purple'>4)XG Boost</font>"
   ]
  },
  {
   "cell_type": "code",
   "execution_count": 20,
   "id": "7f464892",
   "metadata": {},
   "outputs": [
    {
     "data": {
      "text/plain": [
       "0.30633897236309876"
      ]
     },
     "execution_count": 20,
     "metadata": {},
     "output_type": "execute_result"
    }
   ],
   "source": [
    "xgb_r = xg.XGBRegressor()\n",
    "xgb_r.fit(x_train,y_train)\n",
    "predicted=xgb_r.predict(x_test)\n",
    "mean_absolute_percentage_error(y_test,predicted)"
   ]
  },
  {
   "cell_type": "markdown",
   "id": "2a98d0d7",
   "metadata": {},
   "source": [
    "### <font color='green'>We Observe that XGBRegressor works better than MLR but not as good as first three Models </font>"
   ]
  },
  {
   "cell_type": "markdown",
   "id": "e3f4f4ff",
   "metadata": {},
   "source": [
    "### <font color='purple'>5)KNeighborsRegressor</font>"
   ]
  },
  {
   "cell_type": "code",
   "execution_count": 21,
   "id": "f9537881",
   "metadata": {},
   "outputs": [
    {
     "data": {
      "text/plain": [
       "0.33104165575603156"
      ]
     },
     "execution_count": 21,
     "metadata": {},
     "output_type": "execute_result"
    }
   ],
   "source": [
    "neigh = KNeighborsRegressor()\n",
    "neigh.fit(x_train,y_train)\n",
    "a=neigh.predict(x_test)\n",
    "mean_absolute_percentage_error(y_test,a)"
   ]
  },
  {
   "cell_type": "markdown",
   "id": "73db1a2d",
   "metadata": {},
   "source": [
    "### <font color='green'>We Observe that KNeighborsRegressor works better than MLR but not as good as first four Models </font>"
   ]
  },
  {
   "cell_type": "markdown",
   "id": "7b406abd",
   "metadata": {},
   "source": [
    "### <font color='purple'>6)MLP Regressor</font>"
   ]
  },
  {
   "cell_type": "code",
   "execution_count": 23,
   "id": "2d1772e8",
   "metadata": {},
   "outputs": [
    {
     "data": {
      "text/plain": [
       "0.39248293748550367"
      ]
     },
     "execution_count": 23,
     "metadata": {},
     "output_type": "execute_result"
    }
   ],
   "source": [
    "mlps=MLPRegressor()\n",
    "mlps.fit(x_train,y_train)\n",
    "pred=mlps.predict(x_test)\n",
    "mean_absolute_percentage_error(y_test,pred)"
   ]
  },
  {
   "cell_type": "markdown",
   "id": "ac7ab28a",
   "metadata": {},
   "source": [
    "### <font color='green'>We Observe that MLP Regressor works better than MLR but not as good as first five Models </font>"
   ]
  }
 ],
 "metadata": {
  "kernelspec": {
   "display_name": "Python 3",
   "language": "python",
   "name": "python3"
  },
  "language_info": {
   "codemirror_mode": {
    "name": "ipython",
    "version": 3
   },
   "file_extension": ".py",
   "mimetype": "text/x-python",
   "name": "python",
   "nbconvert_exporter": "python",
   "pygments_lexer": "ipython3",
   "version": "3.8.8"
  }
 },
 "nbformat": 4,
 "nbformat_minor": 5
}
